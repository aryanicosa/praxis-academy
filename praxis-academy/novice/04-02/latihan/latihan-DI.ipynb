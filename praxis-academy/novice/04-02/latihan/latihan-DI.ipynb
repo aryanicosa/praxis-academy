{
 "metadata": {
  "language_info": {
   "codemirror_mode": {
    "name": "ipython",
    "version": 3
   },
   "file_extension": ".py",
   "mimetype": "text/x-python",
   "name": "python",
   "nbconvert_exporter": "python",
   "pygments_lexer": "ipython3",
   "version": "3.8.5-final"
  },
  "orig_nbformat": 2,
  "kernelspec": {
   "name": "python3",
   "display_name": "Python 3",
   "language": "python"
  }
 },
 "nbformat": 4,
 "nbformat_minor": 2,
 "cells": [
  {
   "cell_type": "code",
   "execution_count": 12,
   "metadata": {},
   "outputs": [
    {
     "output_type": "stream",
     "name": "stdout",
     "text": [
      "Api called\nthe api return a result : 42\nNone\n"
     ]
    }
   ],
   "source": [
    "# pip3 install injector\n",
    "import injector\n",
    "\n",
    "class Api():\n",
    "    def fetch_remote_data(self):\n",
    "        print('Api called')\n",
    "        return 42\n",
    "\n",
    "class BussinessLogic():\n",
    "    def __init__(self, api: Api):\n",
    "        self.api = api\n",
    "    \n",
    "    def do_this_stuff(self):\n",
    "        api_result = self.api.fetch_remote_data()\n",
    "        print(f\"the api return a result : {api_result}\")\n",
    "\n",
    "if __name__ == '__main__':\n",
    "    api = Api()\n",
    "    logic = BussinessLogic(api=api)\n",
    "\n",
    "    print(logic.do_this_stuff())\n"
   ]
  },
  {
   "cell_type": "code",
   "execution_count": 13,
   "metadata": {},
   "outputs": [
    {
     "output_type": "error",
     "ename": "NameError",
     "evalue": "name 'Module' is not defined",
     "traceback": [
      "\u001b[0;31m---------------------------------------------------------------------------\u001b[0m",
      "\u001b[0;31mNameError\u001b[0m                                 Traceback (most recent call last)",
      "\u001b[0;32m<ipython-input-13-2544ed16fe7d>\u001b[0m in \u001b[0;36m<module>\u001b[0;34m\u001b[0m\n\u001b[0;32m----> 1\u001b[0;31m \u001b[0;32mclass\u001b[0m \u001b[0mAppModule\u001b[0m\u001b[0;34m(\u001b[0m\u001b[0mModule\u001b[0m\u001b[0;34m)\u001b[0m\u001b[0;34m:\u001b[0m\u001b[0;34m\u001b[0m\u001b[0;34m\u001b[0m\u001b[0m\n\u001b[0m\u001b[1;32m      2\u001b[0m \u001b[0;34m\u001b[0m\u001b[0m\n\u001b[1;32m      3\u001b[0m     \u001b[0;34m@\u001b[0m\u001b[0msingleton\u001b[0m\u001b[0;34m\u001b[0m\u001b[0;34m\u001b[0m\u001b[0m\n\u001b[1;32m      4\u001b[0m     \u001b[0;34m@\u001b[0m\u001b[0mprovider\u001b[0m\u001b[0;34m\u001b[0m\u001b[0;34m\u001b[0m\u001b[0m\n\u001b[1;32m      5\u001b[0m     \u001b[0;32mdef\u001b[0m \u001b[0mprovide_bussiness_logic\u001b[0m\u001b[0;34m(\u001b[0m\u001b[0mself\u001b[0m\u001b[0;34m,\u001b[0m \u001b[0mapi\u001b[0m \u001b[0;34m:\u001b[0m\u001b[0mApi\u001b[0m\u001b[0;34m)\u001b[0m \u001b[0;34m->\u001b[0m \u001b[0mBussinessLogic\u001b[0m\u001b[0;34m:\u001b[0m\u001b[0;34m\u001b[0m\u001b[0;34m\u001b[0m\u001b[0m\n",
      "\u001b[0;31mNameError\u001b[0m: name 'Module' is not defined"
     ]
    }
   ],
   "source": [
    "class AppModule(Module):\n",
    "    \n",
    "    @singleton \n",
    "    @provider\n",
    "    def provide_bussiness_logic(self, api :Api) -> BussinessLogic:\n",
    "        return BussinessLogic(api=api)\n",
    "\n",
    "    @singleton\n",
    "    @provider\n",
    "    def provide_api(self) -> Api:\n",
    "        # there is no complex logic in our case,\n",
    "        # but you can use this method to hide the complexity of initial\n",
    "        # configuration.\n",
    "        # e.g. when instantiating a particular DB connector.\n",
    "        return Api()\n",
    "    \n",
    "\n",
    "if __name__ == '__main__':\n",
    "    injector = Injector(AppModule())\n",
    "\n",
    "    logic = injector.get(BussinessLogic)\n",
    "    logic.do_this_stuff()"
   ]
  },
  {
   "cell_type": "code",
   "execution_count": 9,
   "metadata": {},
   "outputs": [
    {
     "output_type": "error",
     "ename": "NameError",
     "evalue": "name 'Module' is not defined",
     "traceback": [
      "\u001b[0;31m---------------------------------------------------------------------------\u001b[0m",
      "\u001b[0;31mNameError\u001b[0m                                 Traceback (most recent call last)",
      "\u001b[0;32m<ipython-input-9-a2bb38a1a1ee>\u001b[0m in \u001b[0;36m<module>\u001b[0;34m\u001b[0m\n\u001b[1;32m      4\u001b[0m         \u001b[0;32mreturn\u001b[0m \u001b[0;36m24\u001b[0m\u001b[0;34m\u001b[0m\u001b[0;34m\u001b[0m\u001b[0m\n\u001b[1;32m      5\u001b[0m \u001b[0;34m\u001b[0m\u001b[0m\n\u001b[0;32m----> 6\u001b[0;31m \u001b[0;32mclass\u001b[0m \u001b[0mTestAppModule\u001b[0m\u001b[0;34m(\u001b[0m\u001b[0mModule\u001b[0m\u001b[0;34m)\u001b[0m\u001b[0;34m:\u001b[0m\u001b[0;34m\u001b[0m\u001b[0;34m\u001b[0m\u001b[0m\n\u001b[0m\u001b[1;32m      7\u001b[0m \u001b[0;34m\u001b[0m\u001b[0m\n\u001b[1;32m      8\u001b[0m     \u001b[0;34m@\u001b[0m\u001b[0msingleton\u001b[0m\u001b[0;34m\u001b[0m\u001b[0;34m\u001b[0m\u001b[0m\n",
      "\u001b[0;31mNameError\u001b[0m: name 'Module' is not defined"
     ]
    }
   ],
   "source": [
    "class TestApi(Api):\n",
    "    def fetch_remote_data(self):\n",
    "        print('Demo Api called')\n",
    "        return 24\n",
    "\n",
    "class TestAppModule(Module):\n",
    "\n",
    "    @singleton\n",
    "    @provider\n",
    "    def provide_api(self) -> Api:\n",
    "        return TestApi()\n",
    "\n",
    "if __name__ == '__main__':\n",
    "    real_injector = Injector(AppModule())\n",
    "    test_injector = Injector([AppModule(), TestAppModule()])\n",
    "\n",
    "    real_logic = real_injector.get(BussinessLogic)\n",
    "    real_logic.do_stuff()\n",
    "\n",
    "    test_logic = test_injector.get(BusinessLogic)\n",
    "    test_logic.do_stuff()"
   ]
  },
  {
   "cell_type": "code",
   "execution_count": null,
   "metadata": {},
   "outputs": [],
   "source": []
  }
 ]
}