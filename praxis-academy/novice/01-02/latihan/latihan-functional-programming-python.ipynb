{
 "metadata": {
  "language_info": {
   "codemirror_mode": {
    "name": "ipython",
    "version": 3
   },
   "file_extension": ".py",
   "mimetype": "text/x-python",
   "name": "python",
   "nbconvert_exporter": "python",
   "pygments_lexer": "ipython3",
   "version": "3.8.5-final"
  },
  "orig_nbformat": 2,
  "kernelspec": {
   "name": "python3",
   "display_name": "Python 3",
   "language": "python"
  }
 },
 "nbformat": 4,
 "nbformat_minor": 2,
 "cells": [
  {
   "cell_type": "code",
   "execution_count": null,
   "metadata": {},
   "outputs": [],
   "source": [
    "'''\n",
    "characteristic\n",
    "- function sebagai first class object, dapat mengaplikasikan semua construct menggunakan data ke fungsi tsb\n",
    "- pure function\n",
    "- cara dan susunan untuk membatasi penggunaan for loop\n",
    "- mendukung operasi rekursif\n",
    "'''"
   ]
  },
  {
   "cell_type": "code",
   "execution_count": 1,
   "metadata": {},
   "outputs": [
    {
     "output_type": "execute_result",
     "data": {
      "text/plain": [
       "[1, 2, 3]"
      ]
     },
     "metadata": {},
     "execution_count": 1
    }
   ],
   "source": [
    "# function as first class object\n",
    "list(map(int, [\"1\", \"2\", \"3\"]))"
   ]
  },
  {
   "cell_type": "code",
   "execution_count": 5,
   "metadata": {},
   "outputs": [
    {
     "output_type": "stream",
     "name": "stdout",
     "text": [
      "hello world\n"
     ]
    }
   ],
   "source": [
    "# higher order function\n",
    "# pass assignment ke sebuah fungsi\n",
    "# menerima fungsi lain sebagai parameter dan return fungsi baru sebagai output \n",
    "def hello_world(h):\n",
    "    def world(w):\n",
    "        print(h, w)\n",
    "    return world \n",
    "\n",
    "h = hello_world # assigning\n",
    "x = h(\"hello\") # assigning\n",
    "x # output <function __main__.hello_world.<locals>.world(w)>\n",
    "x(\"world\")"
   ]
  },
  {
   "cell_type": "code",
   "execution_count": 1,
   "metadata": {},
   "outputs": [
    {
     "output_type": "stream",
     "name": "stdout",
     "text": [
      "[28, 93]\n[33, 98]\n"
     ]
    }
   ],
   "source": [
    "# contoh lain\n",
    "def hof_add(increment):\n",
    "    # create function that loops and add the increment\n",
    "    def add_increment(numbers):\n",
    "        new_number = []\n",
    "        for n in numbers:\n",
    "            new_number.append(n + increment)\n",
    "        return new_number\n",
    "    #return sebuah fungsi seperti return nilai biasa\n",
    "    return add_increment\n",
    "\n",
    "add5 = hof_add(5)\n",
    "print(add5([23, 88]))\n",
    "add10 = hof_add(10)\n",
    "print(add10([23, 88]))\n",
    "\n",
    "# dengan cara ini kita tedak perlu membuat terlalu banyak fungsi untuk setiap perubahan nilainya"
   ]
  },
  {
   "cell_type": "code",
   "execution_count": 6,
   "metadata": {},
   "outputs": [
    {
     "output_type": "execute_result",
     "data": {
      "text/plain": [
       "[<function __main__.hello_world(h)>,\n",
       " <function __main__.hello_world.<locals>.world(w)>]"
      ]
     },
     "metadata": {},
     "execution_count": 6
    }
   ],
   "source": [
    "# store function in various data structure\n",
    "func_list = [h,x]\n",
    "func_list"
   ]
  },
  {
   "cell_type": "code",
   "execution_count": 12,
   "metadata": {},
   "outputs": [
    {
     "output_type": "execute_result",
     "data": {
      "text/plain": [
       "6"
      ]
     },
     "metadata": {},
     "execution_count": 12
    }
   ],
   "source": [
    "# functional purity, menghindari kode procedural dalam sebuah fungsi\n",
    "\n",
    "#contoh procedural\n",
    "def naive_sum(data):\n",
    "    s = 0\n",
    "    for l in data:\n",
    "        s += l\n",
    "    return s\n",
    "\n",
    "l = [1, 2, 3]\n",
    "naive_sum(l)"
   ]
  },
  {
   "cell_type": "code",
   "execution_count": 13,
   "metadata": {},
   "outputs": [
    {
     "output_type": "execute_result",
     "data": {
      "text/plain": [
       "6"
      ]
     },
     "metadata": {},
     "execution_count": 13
    }
   ],
   "source": [
    "#contoh menggunakan fungsi (build-in)\n",
    "sum(l)"
   ]
  },
  {
   "cell_type": "code",
   "execution_count": 15,
   "metadata": {},
   "outputs": [
    {
     "output_type": "execute_result",
     "data": {
      "text/plain": [
       "<map at 0x7f5e8380e100>"
      ]
     },
     "metadata": {},
     "execution_count": 15
    }
   ],
   "source": [
    "# reducing usage of loop\n",
    "'''\n",
    "# cara biasa\n",
    "for x in l:\n",
    "    naive_sum(x)\n",
    "'''\n",
    "# memanfaatkan fungsi map()\n",
    "map(naive_sum, l) "
   ]
  },
  {
   "cell_type": "code",
   "execution_count": 17,
   "metadata": {},
   "outputs": [
    {
     "output_type": "execute_result",
     "data": {
      "text/plain": [
       "<map at 0x7f5e83513430>"
      ]
     },
     "metadata": {},
     "execution_count": 17
    }
   ],
   "source": [
    "# menggunakan map dibaca \"map the function to the list\"\n",
    "# jika diaplikasikan ke eksekusi sequential akan seperti berikut\n",
    "def funct1():\n",
    "    pass\n",
    "def funct2():\n",
    "    pass\n",
    "def funct3():\n",
    "    pass\n",
    "\n",
    "executing = lambda f: F()\n",
    "map(executing, [funct1, funct2, funct3])"
   ]
  },
  {
   "cell_type": "code",
   "execution_count": 2,
   "metadata": {},
   "outputs": [
    {
     "output_type": "stream",
     "name": "stdout",
     "text": [
      "<map object at 0x7f4bf33ba250>\nHi Shivani\nHi Jason\nHi Yusef\nHi Sakura\n"
     ]
    }
   ],
   "source": [
    "names = ['Shivani', 'Jason', 'Yusef', 'Sakura']\n",
    "greeted_names = map(lambda x: 'Hi ' + x, names)\n",
    "\n",
    "# This prints something similar to: <map object at 0x10ed93cc0>\n",
    "print(greeted_names)\n",
    "# Recall, that map returns an iterator \n",
    "\n",
    "# We can print all names in a for loop\n",
    "for name in greeted_names:\n",
    "    print(name)"
   ]
  },
  {
   "cell_type": "code",
   "execution_count": 19,
   "metadata": {},
   "outputs": [
    {
     "output_type": "stream",
     "name": "stdout",
     "text": [
      "21\n"
     ]
    }
   ],
   "source": [
    "# recursion, memenuhi 2 kondisi, sebuah kondisi untuk dilakukan dan memanggil dirinya sendiri\n",
    "# untuk kondisi lain. Akhir kondisi harus dibatasi\n",
    "\n",
    "# contoh deret fibonaci\n",
    "def fib(n):\n",
    "    if n == 0 : return 0\n",
    "    elif n == 1: return 1\n",
    "    else: return fib(n-1)+fib(n-2)"
   ]
  },
  {
   "cell_type": "code",
   "execution_count": 20,
   "metadata": {},
   "outputs": [
    {
     "output_type": "stream",
     "name": "stdout",
     "text": [
      "783012621312\n"
     ]
    }
   ],
   "source": [
    "# contoh lain\n",
    "\n",
    "# kode prosedural\n",
    "starting_number = 96\n",
    "\n",
    "# nilai kuadrat\n",
    "square = starting_number ** 2\n",
    "\n",
    "# kenaikan angka\n",
    "increment = square + 1\n",
    "\n",
    "# pangkat 3\n",
    "cube = increment ** 3\n",
    "\n",
    "# decrease cube by 1\n",
    "decrement = cube - 1\n",
    "\n",
    "# result\n",
    "result = print(decrement)"
   ]
  },
  {
   "cell_type": "code",
   "execution_count": 21,
   "metadata": {},
   "outputs": [
    {
     "output_type": "stream",
     "name": "stdout",
     "text": [
      "783012621312\n"
     ]
    }
   ],
   "source": [
    "# menggunakan cara functional\n",
    "# buat fungsi call\n",
    "def call(x, f):\n",
    "    return f(x)\n",
    "\n",
    "# fungsi mengembalikan pangkat\n",
    "square = lambda x: x * x\n",
    "\n",
    "#fungsi increment\n",
    "increment = lambda x: x + 1\n",
    "\n",
    "# fungsi pangkat 3\n",
    "cube = lambda x: x * x * x\n",
    "\n",
    "# fungsi decrement\n",
    "decrement = lambda x: x-1\n",
    "\n",
    "#masukan semua fungsi dalam sebuah list\n",
    "funcs = [square, increment, cube, decrement]\n",
    "\n",
    "# jadikan satu. dibawah ini bukan functional part\n",
    "# dalam paradigma functional programming, functional dan non-functional dipisahkan\n",
    "from functools import reduce \n",
    "print(reduce(call, funcs, 96))"
   ]
  },
  {
   "cell_type": "code",
   "execution_count": 9,
   "metadata": {},
   "outputs": [
    {
     "output_type": "stream",
     "name": "stdout",
     "text": [
      "<filter object at 0x7f4bf33bae20>\n35\n40\n"
     ]
    }
   ],
   "source": [
    "# menggunakan filter untuk mendapatkan nilai True atau False kemudian eksekusi nilai True\n",
    "numbers = [12, 31, 19, 35, 40]\n",
    "div_by_5 = filter(lambda x : x % 5 == 0, numbers)\n",
    "print(div_by_5)\n",
    "\n",
    "for val in div_by_5:\n",
    "    print(val)"
   ]
  },
  {
   "cell_type": "code",
   "execution_count": null,
   "metadata": {},
   "outputs": [],
   "source": []
  }
 ]
}