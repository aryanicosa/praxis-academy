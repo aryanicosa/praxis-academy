{
 "metadata": {
  "language_info": {
   "codemirror_mode": {
    "name": "ipython",
    "version": 3
   },
   "file_extension": ".py",
   "mimetype": "text/x-python",
   "name": "python",
   "nbconvert_exporter": "python",
   "pygments_lexer": "ipython3",
   "version": "3.8.5-final"
  },
  "orig_nbformat": 2,
  "kernelspec": {
   "name": "python3",
   "display_name": "Python 3",
   "language": "python"
  }
 },
 "nbformat": 4,
 "nbformat_minor": 2,
 "cells": [
  {
   "cell_type": "code",
   "execution_count": null,
   "metadata": {},
   "outputs": [],
   "source": [
    "# Latihan 1\n",
    "\n",
    "Berikan contoh comparison dari tipe data string\n",
    "Berikan contoh comparison dari tipe data boolean\n",
    "Berikan contoh comparison dari tipe data integer"
   ]
  },
  {
   "cell_type": "code",
   "execution_count": 2,
   "metadata": {},
   "outputs": [
    {
     "output_type": "stream",
     "name": "stdout",
     "text": [
      "Arya Nicosa\n"
     ]
    }
   ],
   "source": [
    "firstname = \"Arya\"\n",
    "lastname = \"Nicosa\"\n",
    "\n",
    "if firstname == lastname:\n",
    "    print(\"Namanya perulangan\")\n",
    "else:\n",
    "    print(firstname + \" \" + lastname)"
   ]
  },
  {
   "cell_type": "code",
   "execution_count": 3,
   "metadata": {},
   "outputs": [
    {
     "output_type": "stream",
     "name": "stdout",
     "text": [
      "Data berbeda\n"
     ]
    }
   ],
   "source": [
    "bool1 = True\n",
    "bool2 = False\n",
    "\n",
    "if bool1 != bool2:\n",
    "    print(\"Data berbeda\")\n",
    "else:\n",
    "    print(\"Data sama\")\n"
   ]
  },
  {
   "cell_type": "code",
   "execution_count": 4,
   "metadata": {},
   "outputs": [
    {
     "output_type": "stream",
     "name": "stdout",
     "text": [
      "Yak tul\n"
     ]
    }
   ],
   "source": [
    "val1 = 101\n",
    "val2 = 1010\n",
    "\n",
    "if val1 > val2:\n",
    "    print(\"salah\")\n",
    "elif val1 == val2:\n",
    "    print(\"masak?\")\n",
    "else:\n",
    "    print(\"Yak tul\")"
   ]
  },
  {
   "cell_type": "code",
   "execution_count": null,
   "metadata": {},
   "outputs": [],
   "source": [
    "# Latihan 2\n",
    "\n",
    "Berikan contoh gabungan multiple comparison menggunkan Boolean Comparisin 'and'\n",
    "Berikan contoh gabungan multiple comparison menggunkan Boolean Comparisin 'or'\n",
    "Berikan contoh gabungan multiple comparison menggunkan Boolean Comparisin 'not'"
   ]
  },
  {
   "cell_type": "code",
   "execution_count": 5,
   "metadata": {},
   "outputs": [
    {
     "output_type": "stream",
     "name": "stdout",
     "text": [
      "oke\n"
     ]
    }
   ],
   "source": [
    "num = 3\n",
    "name = \"Arya\"\n",
    "\n",
    "if name == \"Arya\" and num <= 3:\n",
    "    print(\"oke\")\n",
    "else:\n",
    "    print(\"salah\")"
   ]
  },
  {
   "cell_type": "code",
   "execution_count": 6,
   "metadata": {},
   "outputs": [
    {
     "output_type": "stream",
     "name": "stdout",
     "text": [
      "Nicosa Arya\n"
     ]
    }
   ],
   "source": [
    "firstname = \"Nicosa\"\n",
    "lastname = \"Arya\"\n",
    "\n",
    "if firstname == \"Nicosa\" or lastname == \"Arya\":\n",
    "    print(firstname + \" \" + lastname)\n",
    "else:\n",
    "    print(lastname + \" \" + firstname)"
   ]
  },
  {
   "cell_type": "code",
   "execution_count": 9,
   "metadata": {},
   "outputs": [
    {
     "output_type": "stream",
     "name": "stdout",
     "text": [
      "gak mungkin brok\n"
     ]
    }
   ],
   "source": [
    "if not 30 < 100:\n",
    "    print(\"salah brok\")\n",
    "else:\n",
    "    print(\"gak mungkin brok\")"
   ]
  },
  {
   "cell_type": "code",
   "execution_count": null,
   "metadata": {},
   "outputs": [],
   "source": [
    "# Latihan 3\n",
    "\n",
    "Lengkapi kode untuk menghasilkan suatu output yang di harapkan\n",
    "\n",
    "Bualah sebuah if-else statement yang dimana akan mem-print\n",
    " 'Besar' jika ruangan adalah 'Kamar'\n",
    "dan ukuran lebih dari 12, kemudian mem-print\n",
    " 'Sedang' jika ruangan adalah 'Kamar' \n",
    "dan ukuran lebih dari 6 dan memprint \n",
    " 'Kecil' jika ruangan adalah 'Kamar' \n",
    "dan ukuran ruangan lebih kecil dan sama dengan 6."
   ]
  },
  {
   "cell_type": "code",
   "execution_count": 11,
   "metadata": {},
   "outputs": [
    {
     "output_type": "stream",
     "name": "stdout",
     "text": [
      "Sedang\n"
     ]
    }
   ],
   "source": [
    "ruangan = input(\"masukan Kamar\")\n",
    "ukuran = int(input(\"Masukan ukuran\"))\n",
    "\n",
    "if ruangan == 'Kamar' and ukuran > 12:\n",
    "    print('Besar')\n",
    "elif ruangan == 'Kamar' and ukuran > 6:\n",
    "    print('Sedang')\n",
    "else:\n",
    "    print('Kecil')"
   ]
  },
  {
   "cell_type": "code",
   "execution_count": null,
   "metadata": {},
   "outputs": [],
   "source": []
  }
 ]
}