{
 "cells": [
  {
   "cell_type": "code",
   "execution_count": 36,
   "metadata": {},
   "outputs": [
    {
     "data": {
      "text/plain": [
       "[1, 3, 4, 6]"
      ]
     },
     "execution_count": 36,
     "metadata": {},
     "output_type": "execute_result"
    }
   ],
   "source": [
    "def simple_sort(nums):\n",
    "    return sorted(nums)\n",
    "\n",
    "val = [3, 6, 1, 4]\n",
    "simple_sort(val)"
   ]
  },
  {
   "cell_type": "code",
   "execution_count": 42,
   "metadata": {},
   "outputs": [
    {
     "data": {
      "text/plain": [
       "[4, 3, 2, 1]"
      ]
     },
     "execution_count": 42,
     "metadata": {},
     "output_type": "execute_result"
    }
   ],
   "source": [
    "def simple_sort_reverse(nums):\n",
    "    return sorted(nums, reverse=True)\n",
    "\n",
    "val = [1, 2, 3, 4]\n",
    "simple_sort_reverse(val)"
   ]
  },
  {
   "cell_type": "code",
   "execution_count": 1,
   "metadata": {
    "scrolled": true
   },
   "outputs": [
    {
     "output_type": "stream",
     "name": "stdout",
     "text": [
      "[1, 1, 2, 4, 5, 6, 9]\n"
     ]
    }
   ],
   "source": [
    "def bubblesort(array):\n",
    "    \n",
    "    swapped = True\n",
    "    while swapped:\n",
    "        swapped = False\n",
    "        for i in range(len(array)-1):\n",
    "            # mencari item yg tidak urut pertama kali\n",
    "            if array[i] > array[i+1]:\n",
    "                #semua item dalam array dibandingkan dengan item yang berdekatan\n",
    "                array[i], array[i+1] = array[i+1], array[i]\n",
    "                #lakukan swap lagi\n",
    "                swapped = True\n",
    "# cek algoritma\n",
    "test_array = [5, 6, 1, 2, 1, 4, 9]\n",
    "bubblesort(test_array)\n",
    "print(test_array)"
   ]
  },
  {
   "cell_type": "code",
   "execution_count": 9,
   "metadata": {},
   "outputs": [
    {
     "output_type": "stream",
     "name": "stdout",
     "text": [
      "[18, 19, 20, 21, 35, 100]\n"
     ]
    }
   ],
   "source": [
    "def insertion_sort(array):\n",
    "    for i in range(1, len(array)):\n",
    "        j = i-1\n",
    "        next_element = array[i]\n",
    "        # setiap item array dibandingkan dengan nilai terdekat setelahnya\n",
    "        # mencari yg tidak urut, yg urut dibiarkan, yg tidak urut di swap posisi\n",
    "        while(array[j] > next_element) and (j >= 0):\n",
    "            array[j+1] = array[j]\n",
    "            j = j-1\n",
    "        array[j+1] = next_element\n",
    "\n",
    "# cek\n",
    "test_array = [18, 21, 35, 20, 19, 100]\n",
    "insertion_sort(test_array)\n",
    "print(test_array)"
   ]
  },
  {
   "cell_type": "code",
   "execution_count": 11,
   "metadata": {},
   "outputs": [
    {
     "output_type": "stream",
     "name": "stdout",
     "text": [
      "[3, 8, 11, 12, 20]\n"
     ]
    }
   ],
   "source": [
    "def selection_sort(sample):\n",
    "    # i menunjukkan berapa kali nilai disusun\n",
    "    for i in range(len(sample)):\n",
    "        # sumsikan bahwa angka pertama yg tidak urut juga yg terkecil\n",
    "        low_val_index = i\n",
    "        # buat loop untuk iterasi elemen yg tidak urut\n",
    "        for j in range(i+1, len(sample)):\n",
    "            if sample[j] < sample[low_val_index]:\n",
    "                low_val_index = j\n",
    "        # menukar nilai terendah elemen tak urut dengan elemen pertama nilai tak urut\n",
    "        sample[i], sample[low_val_index] = sample[low_val_index], sample[i]\n",
    "\n",
    "#cek\n",
    "test_array = [12, 8, 3, 20, 11]\n",
    "selection_sort(test_array)\n",
    "print(test_array)"
   ]
  },
  {
   "cell_type": "code",
   "execution_count": 11,
   "metadata": {},
   "outputs": [
    {
     "output_type": "stream",
     "name": "stdout",
     "text": [
      "[1, 2, 2, 3, 3, 4, 4, 5, 5, 7, 8, 9]\n"
     ]
    }
   ],
   "source": [
    "def counting_sort(arr):\n",
    "    size = len(arr) # size dijadikan sebagai panjangnya array\n",
    "    output = [0] * size # siapkan penampung array dengan nilai awal nol\n",
    "\n",
    "    # inisialisasi hitung array\n",
    "    count = [0] * (size+1) # wadah array\n",
    "\n",
    "    #masukkan setiap element ke hitung array \n",
    "    for i in range(0, size):\n",
    "        count[arr[i]] += 1\n",
    "\n",
    "    #masukkan nilai kumulatif        \n",
    "    for i in range(1,len(count)):\n",
    "        count[i] += count[i-1]\n",
    "\n",
    "    #temukan index dari setiap elemen dari array asli  dalam count array\n",
    "    # letakkan elemen ke output array        \n",
    "    i = size - 1\n",
    "    while i >= 0:\n",
    "        output[count[arr[i]] - 1] = arr[i]\n",
    "        count[arr[i]] -= 1\n",
    "        i -= 1\n",
    "\n",
    "    #copy nilai yang disimpan ke array asli        \n",
    "    for i in range(0, size):\n",
    "        arr[i] = output[i]\n",
    "\n",
    "arr = [4,2,5,3,1,8,2,7,9,4,3,5]\n",
    "counting_sort(arr)\n",
    "print(arr)\n",
    "    "
   ]
  },
  {
   "cell_type": "code",
   "execution_count": null,
   "metadata": {},
   "outputs": [],
   "source": []
  }
 ],
 "metadata": {
  "kernelspec": {
   "display_name": "Python 3",
   "language": "python",
   "name": "python3"
  },
  "language_info": {
   "codemirror_mode": {
    "name": "ipython",
    "version": 3
   },
   "file_extension": ".py",
   "mimetype": "text/x-python",
   "name": "python",
   "nbconvert_exporter": "python",
   "pygments_lexer": "ipython3",
   "version": "3.8.5-final"
  }
 },
 "nbformat": 4,
 "nbformat_minor": 2
}