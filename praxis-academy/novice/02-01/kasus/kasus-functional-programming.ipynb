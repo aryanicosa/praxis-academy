{
 "metadata": {
  "language_info": {
   "codemirror_mode": {
    "name": "ipython",
    "version": 3
   },
   "file_extension": ".py",
   "mimetype": "text/x-python",
   "name": "python",
   "nbconvert_exporter": "python",
   "pygments_lexer": "ipython3",
   "version": "3.8.5-final"
  },
  "orig_nbformat": 2,
  "kernelspec": {
   "name": "python3",
   "display_name": "Python 3",
   "language": "python"
  }
 },
 "nbformat": 4,
 "nbformat_minor": 2,
 "cells": [
  {
   "cell_type": "code",
   "execution_count": 1,
   "metadata": {},
   "outputs": [
    {
     "output_type": "stream",
     "name": "stdout",
     "text": [
      "Hello World\n"
     ]
    }
   ],
   "source": [
    "def greeting():\n",
    "    print('Hello World')\n",
    "    \n",
    "greeting()"
   ]
  },
  {
   "cell_type": "code",
   "execution_count": 6,
   "metadata": {},
   "outputs": [
    {
     "output_type": "execute_result",
     "data": {
      "text/plain": [
       "49"
      ]
     },
     "metadata": {},
     "execution_count": 6
    }
   ],
   "source": [
    "# assign function to variable\n",
    "def square(x):\n",
    "    return x * x\n",
    "\n",
    "square(6)\n",
    "\n",
    "# pass arround\n",
    "foo = square\n",
    "foo(7)"
   ]
  },
  {
   "cell_type": "code",
   "execution_count": 8,
   "metadata": {},
   "outputs": [
    {
     "output_type": "stream",
     "name": "stdout",
     "text": [
      "how are you?\n"
     ]
    }
   ],
   "source": [
    "# pass function ass parameter\n",
    "def greet(type):\n",
    "    def formal_greeting():\n",
    "        print(\"how are you?\")\n",
    "\n",
    "    def casual_greeting():\n",
    "        print(\"what's up?\")\n",
    "    \n",
    "    if type == 'formal':\n",
    "        formal_greeting()\n",
    "    elif type == 'casual':\n",
    "        casual_greeting()\n",
    "\n",
    "greet('formal') "
   ]
  },
  {
   "cell_type": "code",
   "execution_count": null,
   "metadata": {},
   "outputs": [],
   "source": [
    "# Higher-Order function is a function that receives a function as an argument or returns the function as output.\n",
    "# map, filter, reduce"
   ]
  },
  {
   "cell_type": "code",
   "execution_count": 11,
   "metadata": {},
   "outputs": [
    {
     "output_type": "stream",
     "name": "stdout",
     "text": [
      "[2]\n[4]\n[6]\n"
     ]
    }
   ],
   "source": [
    "# tanpa map\n",
    "test_list = [1, 2, 3]\n",
    "\n",
    "for x in test_list:\n",
    "    new_list = []\n",
    "    new_list.append(x * 2)\n",
    "    print(new_list)\n"
   ]
  },
  {
   "cell_type": "code",
   "execution_count": 12,
   "metadata": {},
   "outputs": [
    {
     "output_type": "stream",
     "name": "stdout",
     "text": [
      "<map object at 0x7f4451180bb0>\n2\n4\n6\n"
     ]
    }
   ],
   "source": [
    "# map\n",
    "\n",
    "func = lambda x : x * 2\n",
    "new_list = map(func, test_list)\n",
    "#print(new_list)\n",
    "\n",
    "for i in new_list:\n",
    "    print(i)"
   ]
  },
  {
   "cell_type": "code",
   "execution_count": 56,
   "metadata": {},
   "outputs": [
    {
     "output_type": "stream",
     "name": "stdout",
     "text": [
      "[{'name': 'Mark', 'age': 18}, {'name': 'John', 'age': 27}, {'name': 'Tony', 'age': 24}]\n"
     ]
    }
   ],
   "source": [
    "# tanpa filter\n",
    "persons = [{ \"name\": \"Peter\", \"age\": 16 }, { \"name\": 'Mark', \"age\": 18 }, { \"name\": 'John', \"age\": 27 }, { \"name\": 'Jane', \"age\": 14 }, { \"name\": 'Tony', \"age\": 24}]\n",
    "\n",
    "new_persons = []\n",
    "i = 0\n",
    "for x in persons:\n",
    "    if persons[i][\"age\"] >= 18:\n",
    "        new_persons.append(x)\n",
    "    i += 1\n",
    "\n",
    "print(new_persons)"
   ]
  },
  {
   "cell_type": "code",
   "execution_count": 55,
   "metadata": {},
   "outputs": [
    {
     "output_type": "stream",
     "name": "stdout",
     "text": [
      "[{'name': 'Mark', 'age': 18}, {'name': 'John', 'age': 27}, {'name': 'Tony', 'age': 24}]\n"
     ]
    }
   ],
   "source": [
    "# menggunakan filter\n",
    "new_persons = list(filter(lambda person : person[\"age\"] >= 18, persons))\n",
    "print(new_persons)\n"
   ]
  },
  {
   "cell_type": "code",
   "execution_count": 70,
   "metadata": {},
   "outputs": [
    {
     "output_type": "stream",
     "name": "stdout",
     "text": [
      "20\n"
     ]
    }
   ],
   "source": [
    "# tanpa reduce\n",
    "test = [4, 6, 8, 2]\n",
    "\n",
    "sum_list = 0\n",
    "for x in test:\n",
    "    sum_list += x\n",
    "\n",
    "print(sum_list)"
   ]
  },
  {
   "cell_type": "code",
   "execution_count": 71,
   "metadata": {},
   "outputs": [
    {
     "output_type": "stream",
     "name": "stdout",
     "text": [
      "20\n"
     ]
    }
   ],
   "source": [
    "from functools import reduce\n",
    "\n",
    "print(reduce(lambda m, n : m + n, test))"
   ]
  },
  {
   "cell_type": "code",
   "execution_count": null,
   "metadata": {},
   "outputs": [],
   "source": []
  }
 ]
}