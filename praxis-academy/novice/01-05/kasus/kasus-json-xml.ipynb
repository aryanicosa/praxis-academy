{
 "metadata": {
  "language_info": {
   "codemirror_mode": {
    "name": "ipython",
    "version": 3
   },
   "file_extension": ".py",
   "mimetype": "text/x-python",
   "name": "python",
   "nbconvert_exporter": "python",
   "pygments_lexer": "ipython3",
   "version": "3.8.5-final"
  },
  "orig_nbformat": 2,
  "kernelspec": {
   "name": "python3",
   "display_name": "Python 3",
   "language": "python"
  }
 },
 "nbformat": 4,
 "nbformat_minor": 2,
 "cells": [
  {
   "cell_type": "code",
   "execution_count": 37,
   "metadata": {},
   "outputs": [
    {
     "output_type": "stream",
     "name": "stdout",
     "text": [
      "\nAll attributes:\n{}\n{}\n{}\n{}\n{}\n{}\n{}\n{}\n"
     ]
    }
   ],
   "source": [
    "import xml.etree.ElementTree as ET\n",
    "tree = ET.parse('xml.xml')\n",
    "root = tree.getroot()\n",
    "\n",
    "# all item attributes\n",
    "print('\\nAll attributes:')\n",
    "for elem in root:\n",
    "    for subelem in elem:\n",
    "        print(subelem.attrib)"
   ]
  },
  {
   "cell_type": "code",
   "execution_count": 38,
   "metadata": {},
   "outputs": [
    {
     "output_type": "stream",
     "name": "stdout",
     "text": [
      "{'Geeks': [{'firstName': 'Vivek', 'lastName': 'Kothari'}, {'firstName': 'Suraj', 'lastName': 'Kumar'}, {'firstName': 'John', 'lastName': 'Smith'}, {'firstName': 'Peter', 'lastName': 'Gregory'}]}\n"
     ]
    }
   ],
   "source": [
    "import json\n",
    "\n",
    "with open('json.json', 'r') as file:\n",
    "  data = json.load(file)\n",
    "  print(data)"
   ]
  },
  {
   "cell_type": "code",
   "execution_count": null,
   "metadata": {},
   "outputs": [],
   "source": [
    "'''\n",
    "Eksekusi file JSON lebih cepat dibandingkan dengan file XML\n",
    "hal ini disebabkan oleh pembacaan file JSON secara langsung membaca seluruh komponen data\n",
    "sedangkan XML harus menentukan bagian mana yg akan dibaca (tag atau attribute atau string)\n",
    "sehingga program harus memilih terlebih dahulu data yang akan ditampilkan/dibaca\n",
    "'''"
   ]
  }
 ]
}